{
 "cells": [
  {
   "cell_type": "markdown",
   "id": "751f33b9",
   "metadata": {},
   "source": [
    "# Importing Libraries"
   ]
  },
  {
   "cell_type": "code",
   "execution_count": null,
   "id": "6c68ddc0",
   "metadata": {},
   "outputs": [],
   "source": [
    "import networkx as nx\n",
    "import matplotlib.pyplot as plt\n",
    "import numpy as np\n",
    "import random\n",
    "from collections import Counter\n",
    "import os\n",
    "import math"
   ]
  },
  {
   "cell_type": "markdown",
   "id": "cef7bf88",
   "metadata": {},
   "source": [
    "# Initializing"
   ]
  },
  {
   "cell_type": "code",
   "execution_count": null,
   "id": "8dd70d95",
   "metadata": {},
   "outputs": [],
   "source": [
    "NODE_NUMBER = 1000\n",
    "MAX_EDGE_NUMBER = (NODE_NUMBER) * (NODE_NUMBER - 1) / 2\n",
    "EDGE_PROBABILITY = 0.01\n",
    "EDGE_NUMBER = int(MAX_EDGE_NUMBER * EDGE_PROBABILITY)  # Approximately 0.05 of max possible edge number\n",
    "GRAPH_NUMBER = 100\n",
    "FAILURE = [i/100 for i in range(5, 80, 5)]\n",
    "SIMULATION_NUMBER = 100\n",
    "COLOR = ['red', 'green', 'blue', 'gray', 'yellow', 'brown', 'black']"
   ]
  },
  {
   "cell_type": "markdown",
   "id": "defbaa3e",
   "metadata": {},
   "source": [
    "# Plots"
   ]
  },
  {
   "cell_type": "markdown",
   "id": "6bdc9fdd",
   "metadata": {},
   "source": [
    "### c.i plots"
   ]
  },
  {
   "cell_type": "code",
   "execution_count": null,
   "id": "2f54e641",
   "metadata": {},
   "outputs": [],
   "source": [
    "def coefficient_interval_plot(data, path=None, alpha=0.95):\n",
    "    x = np.array([i for i in range(len(data))])\n",
    "    y = np.array(data)\n",
    "    # plotting\n",
    "    plt.plot(y, x,'o', color='blue', label='data')\n",
    "    \n",
    "    # confidence intervals\n",
    "    p = ((1.0-alpha)/2.0) * 100\n",
    "    # percentile function returns the numbers which that percent of \n",
    "    # the array elements areless equal then that number\n",
    "    lower =  np.percentile(y, p) \n",
    "    p = (alpha+((1.0-alpha)/2.0)) * 100\n",
    "    upper =  np.percentile(y, p)\n",
    "#     print(f\"\\n{alpha*100} confidence interval {lower} and {upper}\")\n",
    "    \n",
    "    # c.i upper & lower\n",
    "    upper_y = np.array([0, len(data)])\n",
    "    upper_x = np.array([upper, upper])\n",
    "    plt.plot(upper_x, upper_y, color='red', linestyle='-.', label='upper c.i')\n",
    "    \n",
    "    lower_y = np.array([0, len(data)])\n",
    "    lower_x = np.array([lower, lower])\n",
    "    plt.plot(lower_x, lower_y, color='orange', linestyle='-.', label='lower c.i')\n",
    "    \n",
    "    ci_x = np.array([lower, upper])\n",
    "    ci_y = np.array([0, 0])\n",
    "    plt.plot(ci_x, ci_y, '-', color='green', label='c.i')\n",
    "    plt.legend(loc='best')\n",
    "    if path != None:\n",
    "        plt.savefig(path+'.png')\n",
    "    plt.show()"
   ]
  },
  {
   "cell_type": "code",
   "execution_count": null,
   "id": "6f04314a",
   "metadata": {},
   "outputs": [],
   "source": [
    "def coefficient_interval_plot2(data, path=None, alpha=0.95):\n",
    "    x = np.array(list(range(len(data))))\n",
    "    y = np.array(data)\n",
    "    # Plotting data\n",
    "    plt.plot(x, y, '-o', color='red', label='data')\n",
    "    \n",
    "    # Define the confidence interval\n",
    "    ci = (1.0-alpha) * np.std(y) / np.mean(y)\n",
    "    \n",
    "    # Plot the confidence interval\n",
    "    plt.fill_between(x, (y-ci), (y+ci), color='blue', alpha=0.1)\n",
    "    plt.plot(x, (y-2*ci), '--', color='blue', label='-*ci')\n",
    "    plt.plot(x, (y+2*ci), '--', color='blue', label='+*ci')\n",
    "    plt.fill_between(x, (y-2*ci), (y+2*ci), color='green', alpha=.1)\n",
    "    plt.plot(x, (y-2*ci), '--', color='green', label='-2*ci')\n",
    "    plt.plot(x, (y+2*ci), '--', color='green', label='+2*ci')\n",
    "    plt.legend(loc='best')\n",
    "    if path != None:\n",
    "        plt.savefig(path+'.png')\n",
    "    plt.show()"
   ]
  },
  {
   "cell_type": "code",
   "execution_count": null,
   "id": "cce08933",
   "metadata": {},
   "outputs": [],
   "source": [
    "def coefficient_interval_plot3(data, path=None, alpha=0.95):\n",
    "    x = np.array(list(range(len(data))))\n",
    "    y = np.array(data)\n",
    "    # Plotting data\n",
    "    plt.plot(x, y, '-o', color='red', label='data')\n",
    "    \n",
    "    # confidence intervals\n",
    "    ci = (1.0-alpha) * np.std(y) / np.mean(y)\n",
    "    mean = np.mean(y)\n",
    "    avg = [mean for i in range(len(data))]\n",
    "    \n",
    "    # Plot the confidence interval\n",
    "    plt.fill_between(x, (avg-ci), (avg+ci), color='blue', alpha=0.1)\n",
    "    plt.plot(x, (avg-ci), '--', color='blue', label='-*ci')\n",
    "    plt.plot(x, (avg+ci), '--', color='blue', label='+*ci')\n",
    "    plt.fill_between(x, (avg-2*ci), (avg+2*ci), color='green', alpha=.1)\n",
    "    plt.plot(x, (avg-2*ci), '--', color='green', label='-2*ci')\n",
    "    plt.plot(x, (avg+2*ci), '--', color='green', label='+2*ci')\n",
    "    plt.legend(loc='best')\n",
    "    if path != None:\n",
    "        plt.savefig(path+'.png')\n",
    "    plt.show()"
   ]
  },
  {
   "cell_type": "markdown",
   "id": "767cbe32",
   "metadata": {},
   "source": [
    "### result plot"
   ]
  },
  {
   "cell_type": "code",
   "execution_count": null,
   "id": "9871e98c",
   "metadata": {},
   "outputs": [],
   "source": [
    "def simulation_diff_plot(isolation, disconnection, failure, path=None, style='-o'):\n",
    "    plt.plot(list(range(len(disconnection))),disconnection, style, color = 'red', label='disconnection')\n",
    "    plt.plot(list(range(len(isolation))), isolation, style, color = 'blue', label='isolation')\n",
    "    plt.title('isolation an probability results for failure ' + str(failure))\n",
    "    plt.xlabel('simulation number')\n",
    "    plt.ylabel('probability')\n",
    "    plt.legend(loc='best') # setting best location for labels\n",
    "    if path != None:\n",
    "        plt.savefig(path+'.png')\n",
    "    plt.show()"
   ]
  },
  {
   "cell_type": "code",
   "execution_count": null,
   "id": "9d32c06d",
   "metadata": {},
   "outputs": [],
   "source": [
    "def draw_isolation_disconnection_plot(isolation, disconnection, path=None, style='-o'):\n",
    "    plt.plot(FAILURE, disconnection, style, color='red', label='disconnection')\n",
    "    plt.plot(FAILURE, isolation, style, color='blue', label='isolation')\n",
    "    plt.xlabel(\"node failure probability\")\n",
    "    plt.ylabel(\"probability\")\n",
    "    plt.title('isolation & disconnection Probability')\n",
    "    plt.legend(loc='best') # setting best location for labels\n",
    "    if path != None:\n",
    "        plt.savefig(path+'.png')\n",
    "    plt.show()"
   ]
  },
  {
   "cell_type": "markdown",
   "id": "3001cc47",
   "metadata": {},
   "source": [
    "### graph representation"
   ]
  },
  {
   "cell_type": "code",
   "execution_count": null,
   "id": "48f0c699",
   "metadata": {},
   "outputs": [],
   "source": [
    "def show_graph(graph, path=None):\n",
    "    pos = nx.circular_layout(graph)\n",
    "    plt.figure(figsize = (12, 12))\n",
    "    nx.draw_networkx(graph, pos)\n",
    "    if path != None:\n",
    "        plt.savefig(path+'.png')\n",
    "    plt.show()"
   ]
  },
  {
   "cell_type": "markdown",
   "id": "a6b39ad7",
   "metadata": {},
   "source": [
    "### degree distribution"
   ]
  },
  {
   "cell_type": "code",
   "execution_count": null,
   "id": "cd1d9028",
   "metadata": {},
   "outputs": [],
   "source": [
    "def degree_distribution(graph, path=None, style='-o'):\n",
    "    degrees = [graph.degree(n) for n in graph.nodes()]\n",
    "    degrees = list(sorted(degrees))\n",
    "    degree_freq_dic = Counter(degrees)\n",
    "    x_axis = degree_freq_dic.keys()\n",
    "    y_axis = degree_freq_dic.values()\n",
    "    y_axis = np.array(list(y_axis)) / len(degrees)\n",
    "    \n",
    "    plt.title('Degree Distribution')\n",
    "    plt.xlabel(\"Degree\")\n",
    "    plt.ylabel(\"Frequesncy\")\n",
    "    plt.plot(x_axis, y_axis, style, label='degree probability')\n",
    "    \n",
    "    upper_y = np.array([0, max(y_axis)])\n",
    "    avg = np.average(degrees)\n",
    "    upper_x = np.array([avg, avg])\n",
    "    plt.plot(upper_x, upper_y, color='red', linestyle='-.', label='mean')\n",
    "    plt.legend(loc='best') # setting best location for labels\n",
    "    \n",
    "    if path != None:\n",
    "        plt.savefig(path+'.png')\n",
    "    plt.show()"
   ]
  },
  {
   "cell_type": "code",
   "execution_count": null,
   "id": "cdd610a5",
   "metadata": {},
   "outputs": [],
   "source": [
    "def double_log(graph, path=None, style='-o'):\n",
    "    degrees = [graph.degree(n) for n in graph.nodes()]\n",
    "    degrees = list(sorted(degrees))\n",
    "    degree_freq_dic = Counter(degrees)\n",
    "    unique_degrees = list(degree_freq_dic.keys())\n",
    "    frequency = list(degree_freq_dic.values())\n",
    "    x_axis = np.log(unique_degrees)\n",
    "    y_axis = np.log(frequency)\n",
    "    y_axis = np.array(list(y_axis)) / len(degrees)\n",
    "    plt.xlabel(\"Degree\")\n",
    "    plt.ylabel(\"Degree Distribution\")\n",
    "    plt.title('Double Log')\n",
    "    plt.plot(x_axis, y_axis, style, label='degree distribution')\n",
    "    if path != None:\n",
    "        plt.savefig(path+'.png')\n",
    "    plt.show()"
   ]
  },
  {
   "cell_type": "markdown",
   "id": "61bc7c27",
   "metadata": {},
   "source": [
    "### comparison plot"
   ]
  },
  {
   "cell_type": "code",
   "execution_count": null,
   "id": "4e0cda2a",
   "metadata": {},
   "outputs": [],
   "source": [
    "def compare_plot(datas, result_kind, labels, title='', path=None, style='-o'):\n",
    "    x = np.array(list(range(len(datas[0]))))\n",
    "    plt.title(title)\n",
    "    plt.xlabel('simulation')\n",
    "    plt.ylabel(f'{result_kind} probability')\n",
    "    for i in range(len(datas)):\n",
    "        plt.plot(x, datas[i], style, color=COLOR[i], label=lables[i])\n",
    "        \n",
    "    plt.legend(loc='best')\n",
    "    if path != None:\n",
    "        plt.savefig(path+'.png')\n",
    "    plt.show()\n",
    "    print(datas)"
   ]
  },
  {
   "cell_type": "code",
   "execution_count": null,
   "id": "c43b330c",
   "metadata": {},
   "outputs": [],
   "source": [
    "# failure_kind, is node or edge\n",
    "# result_kind, is isolation or disconnection\n",
    "def compare(datas, lables, failure_kind='', result_kind='', style='-o'):\n",
    "    for fail in range(len(FAILURE)):\n",
    "        compare_data=[]\n",
    "        for i in range(len(datas)):\n",
    "            data = datas[i]\n",
    "            failure_data = [x[fail] for x in data]\n",
    "            print(f'{lables[i]} {failure_kind} {result_kind} probabilities, mean is: ', np.mean(failure_data))\n",
    "            print(f'{lables[i]} {failure_kind} {result_kind} probabilities, std is: ', np.std(failure_data))\n",
    "            compare_data.append(failure_data)\n",
    "            \n",
    "        compare_plot(compare_data, result_kind, lables, title=f'{failure_kind} failure {FAILURE[fail]} {result_kind} comparision', style=style)"
   ]
  },
  {
   "cell_type": "markdown",
   "id": "d2875910",
   "metadata": {},
   "source": [
    "# Failure Functions"
   ]
  },
  {
   "cell_type": "code",
   "execution_count": null,
   "id": "866c08dd",
   "metadata": {},
   "outputs": [],
   "source": [
    "# removing nodes of graphs\n",
    "# returns graph after node failure\n",
    "def graph_node_failure(graph, failure):\n",
    "    nodes = [i for i in graph.nodes]\n",
    "    for node in nodes:\n",
    "        graph.remove_node(node) if random.uniform(0.0, 1) <= failure else None\n",
    "    \n",
    "    return graph"
   ]
  },
  {
   "cell_type": "code",
   "execution_count": null,
   "id": "1232057a",
   "metadata": {},
   "outputs": [],
   "source": [
    "# removing edges of graph\n",
    "# returns graph after edge failure\n",
    "def graph_edge_failure(graph, failure):\n",
    "    edges = [i for i in graph.edges]\n",
    "    for edge in edges:\n",
    "        graph.remove_edge(edge[0], edge[1]) if random.uniform(0.0, 1) <= failure else None\n",
    "    \n",
    "    return graph"
   ]
  },
  {
   "cell_type": "code",
   "execution_count": null,
   "id": "132d93ef",
   "metadata": {},
   "outputs": [],
   "source": [
    "# iterate over all graphs & apply the failure\n",
    "# then iterate over new graphs (graphs after failure applied)\n",
    "# and returns isolation & disconnection probabillity\n",
    "def isolation_disconnection_for_failure(graphs, failure, is_node_failure=True):\n",
    "    new_graphs = []\n",
    "    if is_node_failure:\n",
    "        new_graphs = [graph_node_failure(graph.copy(), failure) for graph in graphs]\n",
    "    else:\n",
    "        new_graphs = [graph_edge_failure(graph.copy(), failure) for graph in graphs]\n",
    "    \n",
    "    isolation = [len(list(nx.isolates(graph))) > 0 for graph in new_graphs]\n",
    "    disconection = [not nx.is_connected(graph) for graph in new_graphs]\n",
    "    \n",
    "    isolation_probability = sum(isolation) / len(graphs)\n",
    "    disconnection_probability = sum(disconection) / len(graphs)\n",
    "    \n",
    "    return isolation_probability, disconnection_probability"
   ]
  },
  {
   "cell_type": "code",
   "execution_count": null,
   "id": "22db0f65",
   "metadata": {},
   "outputs": [],
   "source": [
    "def apply_failure(graphs, is_node_failure=True, path=None):\n",
    "    isolates = []\n",
    "    disconnect = []\n",
    "    for failure in FAILURE:\n",
    "        print('failure: ', failure)\n",
    "        isolation_probability, disconnection_probability = isolation_disconnection_for_failure(graphs, failure, is_node_failure)\n",
    "        \n",
    "#         print('probability of isolated graphs for failure ' + str(failure) + ' is: ', isolation_probability)\n",
    "        isolates.append(isolation_probability)\n",
    "#         print('probability of isolated graphs for disconected ' + str(failure) + ' is: ', disconnection_probability)\n",
    "        disconnect.append(disconnection_probability)\n",
    "#         print()\n",
    "    \n",
    "    draw_isolation_disconnection_plot(isolates, disconnect, path)\n",
    "    return isolates, disconnect"
   ]
  },
  {
   "cell_type": "markdown",
   "id": "9be03430",
   "metadata": {},
   "source": [
    "# Small-World (watts-storgatz)"
   ]
  },
  {
   "cell_type": "code",
   "execution_count": null,
   "id": "37c02785",
   "metadata": {
    "scrolled": false
   },
   "outputs": [],
   "source": [
    "small_worlds = []\n",
    "\n",
    "k = round(((2 * EDGE_NUMBER) / NODE_NUMBER))\n",
    "\n",
    "for i in range(GRAPH_NUMBER):\n",
    "    print('Graph No: ', i)\n",
    "    # we want to have EDGE_NUMBER edge, and in the base graph we have k degree\n",
    "    # for each node. And we know summation of node degrees, is 2 * EDGE_NUMBER\n",
    "    # so we have tohave k = (2 * EDGE_NUMBER) / NODE_NUMBER  for each node.\n",
    "    rewiring_probability = random.uniform(0.2, 0.3)\n",
    "    graph = graph = nx.watts_strogatz_graph(n=NODE_NUMBER, k=k, p=rewiring_probability)\n",
    "    small_worlds.append(graph)\n",
    "#     show_graph(graph)"
   ]
  },
  {
   "cell_type": "markdown",
   "id": "d012600b",
   "metadata": {},
   "source": [
    "### Degree Distribution"
   ]
  },
  {
   "cell_type": "code",
   "execution_count": null,
   "id": "571b46c4",
   "metadata": {
    "scrolled": true
   },
   "outputs": [],
   "source": [
    "for graph in small_worlds:\n",
    "    degree_distribution(graph)"
   ]
  },
  {
   "cell_type": "markdown",
   "id": "4459e8ce",
   "metadata": {},
   "source": [
    "# Scale-Free (barabasi-albert)"
   ]
  },
  {
   "cell_type": "code",
   "execution_count": null,
   "id": "0f703acc",
   "metadata": {
    "scrolled": true
   },
   "outputs": [],
   "source": [
    "seed_values = random.sample(range(1, 1000), GRAPH_NUMBER) # generating GRAPH_NUMBER unique random number to be used as seed\n",
    "\n",
    "m = round(((2 * EDGE_NUMBER) / NODE_NUMBER))\n",
    "\n",
    "scale_frees = []\n",
    "\n",
    "for i in range(GRAPH_NUMBER):\n",
    "    print('Graph no: ', i)\n",
    "    graph = nx.barabasi_albert_graph(n=NODE_NUMBER, m=k, seed=seed_values[i], initial_graph=None)\n",
    "    scale_frees.append(graph)\n",
    "    \n",
    "#     show_graph(graph)"
   ]
  },
  {
   "cell_type": "markdown",
   "id": "6a270f98",
   "metadata": {},
   "source": [
    "### Degree Distribution"
   ]
  },
  {
   "cell_type": "code",
   "execution_count": null,
   "id": "fe847ff0",
   "metadata": {},
   "outputs": [],
   "source": [
    "for graph in scale_frees:\n",
    "    degree_distribution(graph, style='o')"
   ]
  },
  {
   "cell_type": "markdown",
   "id": "5325499a",
   "metadata": {},
   "source": [
    "### log-log plot"
   ]
  },
  {
   "cell_type": "code",
   "execution_count": null,
   "id": "d4d8e14e",
   "metadata": {},
   "outputs": [],
   "source": [
    "for graph in scale_frees:\n",
    "    double_log(graph, style='o')"
   ]
  },
  {
   "cell_type": "markdown",
   "id": "6a78375a",
   "metadata": {},
   "source": [
    "# Random "
   ]
  },
  {
   "cell_type": "code",
   "execution_count": null,
   "id": "f9f4304b",
   "metadata": {
    "scrolled": true
   },
   "outputs": [],
   "source": [
    "randoms = []\n",
    "for i in range(GRAPH_NUMBER):\n",
    "    print('graph no: ', i)\n",
    "    graph = nx.erdos_renyi_graph(NODE_NUMBER, EDGE_PROBABILITY)\n",
    "    randoms.append(graph)"
   ]
  },
  {
   "cell_type": "markdown",
   "id": "23f3869e",
   "metadata": {},
   "source": [
    "### Degree Distribution"
   ]
  },
  {
   "cell_type": "code",
   "execution_count": null,
   "id": "25124deb",
   "metadata": {},
   "outputs": [],
   "source": [
    "for graph in randoms:\n",
    "    degree_distribution(graph)"
   ]
  },
  {
   "cell_type": "markdown",
   "id": "a48ba7d3",
   "metadata": {},
   "source": [
    "# Node Failure"
   ]
  },
  {
   "cell_type": "markdown",
   "id": "31f78ada",
   "metadata": {},
   "source": [
    "### Small-WOrld"
   ]
  },
  {
   "cell_type": "code",
   "execution_count": null,
   "id": "795f2bb9",
   "metadata": {
    "scrolled": true
   },
   "outputs": [],
   "source": [
    "small_world_node_isolations = []\n",
    "small_world_node_disconnections = []\n",
    "\n",
    "for i in range(SIMULATION_NUMBER):\n",
    "    print('simulation no: ', i)\n",
    "    isolation, disconnection = apply_failure(small_worlds, is_node_failure=True)\n",
    "    small_world_node_isolations.append(isolation)\n",
    "    small_world_node_disconnections.append(disconnection)"
   ]
  },
  {
   "cell_type": "markdown",
   "id": "76075615",
   "metadata": {},
   "source": [
    "### Scale-Free"
   ]
  },
  {
   "cell_type": "code",
   "execution_count": null,
   "id": "184fba3b",
   "metadata": {},
   "outputs": [],
   "source": [
    "scale_free_node_isolations = []\n",
    "scale_free_node_disconnections = []\n",
    "\n",
    "for i in range(SIMULATION_NUMBER):\n",
    "    isolation, disconnection = apply_failure(scale_frees, is_node_failure=True)\n",
    "    scale_free_node_isolations.append(isolation)\n",
    "    scale_free_node_disconnections.append(disconnection)"
   ]
  },
  {
   "cell_type": "markdown",
   "id": "a78c3873",
   "metadata": {},
   "source": [
    "### Random"
   ]
  },
  {
   "cell_type": "code",
   "execution_count": null,
   "id": "5c9bea67",
   "metadata": {},
   "outputs": [],
   "source": [
    "random_node_isolations = []\n",
    "random_node_disconnections = []\n",
    "\n",
    "for i in range(SIMULATION_NUMBER):\n",
    "    isolation, disconnection = apply_failure(randoms, is_node_failure=True)\n",
    "    random_node_isolations.append(isolation)\n",
    "    random_node_disconnections.append(disconnection)"
   ]
  },
  {
   "cell_type": "markdown",
   "id": "600c6c21",
   "metadata": {},
   "source": [
    "# Edge Failure"
   ]
  },
  {
   "cell_type": "markdown",
   "id": "db153781",
   "metadata": {},
   "source": [
    "### Small-World"
   ]
  },
  {
   "cell_type": "code",
   "execution_count": null,
   "id": "fe5770be",
   "metadata": {},
   "outputs": [],
   "source": [
    "small_world_edge_isolations = []\n",
    "small_world_edge_disconnections = []\n",
    "\n",
    "for i in range(SIMULATION_NUMBER):\n",
    "    print('simulation no: ', i)\n",
    "#     isolation, disconnection = apply_failure(random.sample(small_worlds, 20), is_node_failure=False)\n",
    "    isolation, disconnection = apply_failure(small_worlds, is_node_failure=False)\n",
    "    small_world_edge_isolations.append(isolation)\n",
    "    small_world_edge_disconnections.append(disconnection)"
   ]
  },
  {
   "cell_type": "markdown",
   "id": "bba71b6c",
   "metadata": {},
   "source": [
    "### Scale-Free"
   ]
  },
  {
   "cell_type": "code",
   "execution_count": null,
   "id": "f9ef1d9d",
   "metadata": {},
   "outputs": [],
   "source": [
    "scale_free_edge_isolations = []\n",
    "scale_free_edge_disconnections = []\n",
    "\n",
    "for i in range(SIMULATION_NUMBER):\n",
    "    print('simulation no: ', i)\n",
    "#     isolation, disconnection = apply_failure(random.sample(scale_frees, 20), is_node_failure=False)\n",
    "    isolation, disconnection = apply_failure(scale_frees, is_node_failure=False)\n",
    "    scale_free_edge_isolations.append(isolation)\n",
    "    scale_free_edge_disconnections.append(disconnection)"
   ]
  },
  {
   "cell_type": "markdown",
   "id": "16b829f2",
   "metadata": {},
   "source": [
    "### Random"
   ]
  },
  {
   "cell_type": "code",
   "execution_count": null,
   "id": "4fb27522",
   "metadata": {
    "scrolled": true
   },
   "outputs": [],
   "source": [
    "random_edge_isolations = []\n",
    "random_edge_disconnections = []\n",
    "\n",
    "for i in range(SIMULATION_NUMBER):\n",
    "    print('simulation no: ', i)\n",
    "#     isolation, disconnection = apply_failure(random.sample(randoms, 20), is_node_failure=False)\n",
    "    isolation, disconnection = apply_failure(randoms, is_node_failure=False)\n",
    "    random_edge_isolations.append(isolation)\n",
    "    random_edge_disconnections.append(disconnection)"
   ]
  },
  {
   "cell_type": "markdown",
   "id": "14f80bea",
   "metadata": {},
   "source": [
    "# Comparison"
   ]
  },
  {
   "cell_type": "markdown",
   "id": "cd19d971",
   "metadata": {},
   "source": [
    "### node-isolation"
   ]
  },
  {
   "cell_type": "code",
   "execution_count": null,
   "id": "64f80c14",
   "metadata": {
    "scrolled": true
   },
   "outputs": [],
   "source": [
    "lables = ['small-world', 'scale-free', 'random']\n",
    "datas = [small_world_node_isolations, scale_free_node_isolations, random_node_isolations]\n",
    "compare(datas, lables, failure_kind='node', result_kind='isolation', style='-')"
   ]
  },
  {
   "cell_type": "markdown",
   "id": "395e28d5",
   "metadata": {},
   "source": [
    "### node-disconnection"
   ]
  },
  {
   "cell_type": "code",
   "execution_count": null,
   "id": "0ac03d51",
   "metadata": {},
   "outputs": [],
   "source": [
    "lables = ['small-world', 'scale-free', 'random']\n",
    "datas = [small_world_node_disconnections, scale_free_node_disconnections, random_node_disconnections]\n",
    "compare(datas, lables, failure_kind='node', result_kind='disconnection', style='-')"
   ]
  },
  {
   "cell_type": "markdown",
   "id": "6dd6d7ab",
   "metadata": {},
   "source": [
    "### edge-isolation"
   ]
  },
  {
   "cell_type": "code",
   "execution_count": null,
   "id": "93d43a71",
   "metadata": {},
   "outputs": [],
   "source": [
    "lables = ['small-world', 'scale-free', 'random']\n",
    "datas = [small_world_edge_isolations, scale_free_edge_isolations, random_edge_isolations]\n",
    "compare(datas, lables, failure_kind='edge', result_kind='isolation', style='-')"
   ]
  },
  {
   "cell_type": "markdown",
   "id": "f8926728",
   "metadata": {},
   "source": [
    "### edge-disconnection"
   ]
  },
  {
   "cell_type": "code",
   "execution_count": null,
   "id": "3c196701",
   "metadata": {},
   "outputs": [],
   "source": [
    "lables = ['small-world', 'scale-free', 'random']\n",
    "datas = [small_world_edge_disconnections, scale_free_edge_disconnections, random_edge_disconnections]\n",
    "compare(datas, lables, failure_kind='edge', result_kind='disconnection', style='-')"
   ]
  }
 ],
 "metadata": {
  "kernelspec": {
   "display_name": "Python 3 (ipykernel)",
   "language": "python",
   "name": "python3"
  },
  "language_info": {
   "codemirror_mode": {
    "name": "ipython",
    "version": 3
   },
   "file_extension": ".py",
   "mimetype": "text/x-python",
   "name": "python",
   "nbconvert_exporter": "python",
   "pygments_lexer": "ipython3",
   "version": "3.11.3"
  }
 },
 "nbformat": 4,
 "nbformat_minor": 5
}
